#一小節２.26秒
#16分音符　０,14秒　 8分音符　0,28秒　　4分音符 0,56
import numpy as np
import IPython.display

A = 1
fs = 44100

t = np.arange(0, 14/100, 1/fs)
t2 = np.arange(0, 28/100, 1/fs)
t3 = np.arange(0, 42/100, 1/fs)
t4 =  np.arange(0, 56/100, 1/fs)
t5 = np.arange(0, 70/100, 1/fs)
t6 = np.arange(0,  84/100, 1/fs)
t9 = np.arange(0,  126/100, 1/fs)
t10 = np.arange(0, 140/100, 1/fs)

#16分音符　　ラシどれみファそらし
y1=A*np.sin(2*np.pi*440*2**((8-9)/12)*t)#ラ
y2=A*np.sin(2*np.pi*440*2**((10-9)/12)*t)#シ
y3=A*np.sin(2*np.pi*440*2**((12-9)/12)*t)#ド
y4=A*np.sin(2*np.pi*440*2**((13-9)/12)*t)#レ
y5=A*np.sin(2*np.pi*440*2**((15-9)/12)*t)#ミ 
y6=A*np.sin(2*np.pi*440*2**((17-9)/12)*t)#ファ
y7=A*np.sin(2*np.pi*440*2**((18-9)/12)*t)#ソ
y8=A*np.sin(2*np.pi*440*2**((20-9)/12)*t)#ラ
y9=A*np.sin(2*np.pi*440*2**((22-9)/12)*t)#シ

#8分音符
y10=A*np.sin(2*np.pi*440*2**((8-9)/12)*t2)#ラ
y11=A*np.sin(2*np.pi*440*2**((10-9)/12)*t2)#シ
y12=A*np.sin(2*np.pi*440*2**((12-9)/12)*t2)#ド
y13=A*np.sin(2*np.pi*440*2**((13-9)/12)*t2)#レ
y14=A*np.sin(2*np.pi*440*2**((15-9)/12)*t2)#ミ
y15=A*np.sin(2*np.pi*440*2**((17-9)/12)*t2)#ファ
y16=A*np.sin(2*np.pi*440*2**((18-9)/12)*t2)#ソ
y17=A*np.sin(2*np.pi*440*2**((20-9)/12)*t2)#ラ
y18=A*np.sin(2*np.pi*440*2**((22-9)/12)*t2)#シ
y39=A*np.sin(2*np.pi*440*2**((24-9)/12)*t2)#ラ
y40=A*np.sin(2*np.pi*440*2**((25-9)/12)*t2)#シ

#16+8分音符　ファみら
y19=A*np.sin(2*np.pi*440*2**((15-9)/12)*t3)#ミ
y20=A*np.sin(2*np.pi*440*2**((17-9)/12)*t3)#ファ
y21=A*np.sin(2*np.pi*440*2**((20-9)/12)*t3)#ラ

#4分音符
y22=A*np.sin(2*np.pi*440*2**((8-9)/12)*t4)#ラ
y23=A*np.sin(2*np.pi*440*2**((10-9)/12)*t4)#シ
y24=A*np.sin(2*np.pi*440*2**((12-9)/12)*t4)#ド
y25=A*np.sin(2*np.pi*440*2**((13-9)/12)*t4)#レ
y26=A*np.sin(2*np.pi*440*2**((15-9)/12)*t4)#ミ
y27=A*np.sin(2*np.pi*440*2**((17-9)/12)*t4)#ファ
y28=A*np.sin(2*np.pi*440*2**((18-9)/12)*t4)#ソ
y29=A*np.sin(2*np.pi*440*2**((20-9)/12)*t4)#ラ
y30=A*np.sin(2*np.pi*440*2**((22-9)/12)*t4)#シ

#4+16分音符　下ら
y31=A*np.sin(2*np.pi*440*2**((8-9)/12)*t5)#下ラ

#4+8分音符　み
y32=A*np.sin(2*np.pi*440*2**((15-9)/12)*t6)#ミ

#2+16分音符れ
y33=A*np.sin(2*np.pi*440*2**((13-9)/12)*t9)#レ

#２＋８分音符　ら
y34=A*np.sin(2*np.pi*440*2**((20-9)/12)*t10)#ラ

#休符
y35=0*np.sin(2*np.pi*440*2**((12-9)/12)*t)#16
y36=0*np.sin(2*np.pi*440*2**((12-9)/12)*t2)#8
y37=0*np.sin(2*np.pi*440*2**((12-9)/12)*t3)#8+16
y38=0*np.sin(2*np.pi*440*2**((12-9)/12)*t4)#4



y=np.array([])
y=np.append(y,y4)#1小節目
y=np.append(y,y7)
y=np.append(y,y7)
y=np.append(y,y15)
y=np.append(y,y38)#2小節目
y=np.append(y,y4)
y=np.append(y,y3)
y=np.append(y,y4)
y=np.append(y,y13)
y=np.append(y,y38)
y=np.append(y,y7)
y=np.append(y,y7)
y=np.append(y,y15)
y=np.append(y,y36)#3小節目
y=np.append(y,y4)
y=np.append(y,y4)
y=np.append(y,y4)
y=np.append(y,y3)
y=np.append(y,y13)
y=np.append(y,y38)
y=np.append(y,y7)
y=np.append(y,y7)
y=np.append(y,y15)
y=np.append(y,y36)#4小節目
y=np.append(y,y4)
y=np.append(y,y4)
y=np.append(y,y4)
y=np.append(y,y11)
y=np.append(y,y31)
y=np.append(y,y36)
y=np.append(y,y4)
y=np.append(y,y3)
y=np.append(y,y13)#5小節目
y=np.append(y,y3)
y=np.append(y,y13)
y=np.append(y,y3)
y=np.append(y,y26)
y=np.append(y,y36)
y=np.append(y,y7)
y=np.append(y,y7)
y=np.append(y,y15)
y=np.append(y,y37)#6小節目
y=np.append(y,y4)
y=np.append(y,y4)
y=np.append(y,y3)
y=np.append(y,y13)
y=np.append(y,y35)
y=np.append(y,y4)
y=np.append(y,y4)
y=np.append(y,y4)
y=np.append(y,y7)
y=np.append(y,y7)
y=np.append(y,y15)
y=np.append(y,y38)#7小節目
y=np.append(y,y4)
y=np.append(y,y4)
y=np.append(y,y４)
y=np.append(y,y18)
y=np.append(y,y8)
y=np.append(y,y8)
y=np.append(y,y6)
y=np.append(y,y6)
y=np.append(y,y7)
y=np.append(y,y8)
y=np.append(y,y20)
y=np.append(y,y4)#8小節目
y=np.append(y,y４)
y=np.append(y,y36)
y=np.append(y,y4)
y=np.append(y,y11)
y=np.append(y,y1)
y=np.append(y,y22)
y=np.append(y,y4)
y=np.append(y,y3)
y=np.append(y,y13)#9小節目
y=np.append(y,y3)
y=np.append(y,y13)
y=np.append(y,y3)
y=np.append(y,y19)
y=np.append(y,y4)
y=np.append(y,y4)
y=np.append(y,y4)
y=np.append(y,y7)
y=np.append(y,y7)
y=np.append(y,y15)
y=np.append(y,y37)#10小節目
y=np.append(y,y4)
y=np.append(y,y4)
y=np.append(y,y3)
y=np.append(y,y13)
y=np.append(y,y35)
y=np.append(y,y4)
y=np.append(y,y4)
y=np.append(y,y4)
y=np.append(y,y7)
y=np.append(y,y7)
y=np.append(y,y27)
y=np.append(y,y35)#11小節目
y=np.append(y,y4)
y=np.append(y,y4)
y=np.append(y,y3)
y=np.append(y,y25)
y=np.append(y,y35)
y=np.append(y,y6)
y=np.append(y,y7)
y=np.append(y,y5)
y=np.append(y,y5)
y=np.append(y,y6)
y=np.append(y,y6)#12小節目
y=np.append(y,y7)
y=np.append(y,y8)
y=np.append(y,y15)
y=np.append(y,y4)
y=np.append(y,y4)
y=np.append(y,y15)
y=np.append(y,y7)
y=np.append(y,y21)
y=np.append(y,y4)
y=np.append(y,y13)
y=np.append(y,y13)#13小節目
y=np.append(y,y3)
y=np.append(y,y4)
y=np.append(y,y4)
y=np.append(y,y3)
y=np.append(y,y14)
y=np.append(y,y35)
y=np.append(y,y4)
y=np.append(y,y13)
y=np.append(y,y7)
y=np.append(y,y6)
y=np.append(y,y5)
y=np.append(y,y20)
y=np.append(y,y4)#14小節目
y=np.append(y,y13)
y=np.append(y,y3)
y=np.append(y,y13)
y=np.append(y,y35)
y=np.append(y,y4)
y=np.append(y,y4)
y=np.append(y,y4)
y=np.append(y,y7)
y=np.append(y,y6)
y=np.append(y,y5)
y=np.append(y,y6)
y=np.append(y,y36)#15小節目
y=np.append(y,y13)
y=np.append(y,y13)
y=np.append(y,y1)
y=np.append(y,y1)
y=np.append(y,y2)
y=np.append(y,y13)
y=np.append(y,y4)
y=np.append(y,y7)
y=np.append(y,y6)
y=np.append(y,y15)
y=np.append(y,y36)#16小節目
y=np.append(y,y4)
y=np.append(y,y18)
y=np.append(y,y8)
y=np.append(y,y29)
y=np.append(y,y4)
y=np.append(y,y18)
y=np.append(y,y8)
y=np.append(y,y34)
y=np.append(y,y38)#17小節目
y=np.append(y,y6)
y=np.append(y,y21)
y=np.append(y,y30)#18小節目
y=np.append(y,y13)
y=np.append(y,y12)
y=np.append(y,y24)
y=np.append(y,y25)
y=np.append(y,y20)#19小節目
y=np.append(y,y21)
y=np.append(y,y5)
y=np.append(y,y20)
y=np.append(y,y35)
y=np.append(y,y4)
y=np.append(y,y6)
y=np.append(y,y21)
y=np.append(y,y30)#20小節目
y=np.append(y,y13)
y=np.append(y,y12)
y=np.append(y,y24)
y=np.append(y,y25)
y=np.append(y,y40)#21小節目
y=np.append(y,y39)
y=np.append(y,y18)
y=np.append(y,y17)
y=np.append(y,y15)
y=np.append(y,y14)
y=np.append(y,y6)
y=np.append(y,y21)
y=np.append(y,y30)#22小節目
y=np.append(y,y13)
y=np.append(y,y12)
y=np.append(y,y24)
y=np.append(y,y25)
y=np.append(y,y20)#23小節目
y=np.append(y,y21)
y=np.append(y,y5)
y=np.append(y,y20)
y=np.append(y,y35)
y=np.append(y,y1)
y=np.append(y,y6)
y=np.append(y,y14)
y=np.append(y,y33)

IPython.display.Audio(y, rate=fs)
